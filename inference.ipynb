{
 "cells": [
  {
   "cell_type": "code",
   "execution_count": 22,
   "id": "02637941",
   "metadata": {},
   "outputs": [],
   "source": [
    "import torch\n",
    "from datasets import load_dataset\n",
    "import peft\n",
    "import transformers as tf\n",
    "from trl import SFTConfig, SFTTrainer"
   ]
  },
  {
   "cell_type": "code",
   "execution_count": 23,
   "id": "18289c6a",
   "metadata": {},
   "outputs": [
    {
     "name": "stdout",
     "output_type": "stream",
     "text": [
      "Available devices: 1 Current device: 0 Device name: NVIDIA GeForce RTX 4090\n"
     ]
    }
   ],
   "source": [
    "torch.cuda.empty_cache()\n",
    "print(\"Available devices:\", torch.cuda.device_count(), \"Current device:\", torch.cuda.current_device(), \"Device name:\", torch.cuda.get_device_name(torch.cuda.current_device()))"
   ]
  },
  {
   "cell_type": "code",
   "execution_count": 24,
   "id": "4e67380d",
   "metadata": {},
   "outputs": [],
   "source": [
    "bnb_config = tf.BitsAndBytesConfig(\n",
    "   load_in_4bit=True,\n",
    "   bnb_4bit_quant_type=\"nf4\",\n",
    "   bnb_4bit_use_double_quant=True,\n",
    "   bnb_4bit_compute_dtype=torch.float32\n",
    ")\n",
    "\n",
    "repo_id = 'microsoft/Phi-3-mini-4k-instruct'"
   ]
  },
  {
   "cell_type": "code",
   "execution_count": 25,
   "id": "05e768c1",
   "metadata": {},
   "outputs": [
    {
     "data": {
      "application/vnd.jupyter.widget-view+json": {
       "model_id": "8c27983ee2754013a38428d142602f2e",
       "version_major": 2,
       "version_minor": 0
      },
      "text/plain": [
       "Loading checkpoint shards:   0%|          | 0/2 [00:00<?, ?it/s]"
      ]
     },
     "metadata": {},
     "output_type": "display_data"
    }
   ],
   "source": [
    "model = tf.AutoModelForCausalLM.from_pretrained(\n",
    "   repo_id, device_map=\"cuda:0\", quantization_config=bnb_config\n",
    ")\n",
    "model = peft.PeftModel.from_pretrained(model, \"local-phi3-mini-yoda-adapter\")"
   ]
  },
  {
   "cell_type": "code",
   "execution_count": 26,
   "id": "8fcfe1c9",
   "metadata": {},
   "outputs": [
    {
     "name": "stdout",
     "output_type": "stream",
     "text": [
      "Model size (in billions of parameters): 3.833662464\n",
      "Memory footprint (in GB): 2.25667296\n"
     ]
    }
   ],
   "source": [
    "print(\"Model size (in billions of parameters):\", model.num_parameters() / 1e9)\n",
    "print(\"Memory footprint (in GB):\", model.get_memory_footprint()/1e9)"
   ]
  },
  {
   "cell_type": "code",
   "execution_count": 27,
   "id": "8396c857",
   "metadata": {},
   "outputs": [],
   "source": [
    "tokenizer = tf.AutoTokenizer.from_pretrained(repo_id)\n",
    "tokenizer.pad_token = tokenizer.unk_token\n",
    "tokenizer.pad_token_id = tokenizer.unk_token_id"
   ]
  },
  {
   "cell_type": "code",
   "execution_count": 28,
   "id": "245bcce1",
   "metadata": {},
   "outputs": [],
   "source": [
    "def gen_prompt(tokenizer, sentence):\n",
    "    converted_sample = [{\"role\": \"user\", \"content\": sentence}]\n",
    "    prompt = tokenizer.apply_chat_template(\n",
    "        converted_sample, tokenize=False, add_generation_prompt=True\n",
    "    )\n",
    "    return prompt"
   ]
  },
  {
   "cell_type": "code",
   "execution_count": 29,
   "id": "5a781f6b",
   "metadata": {},
   "outputs": [],
   "source": [
    "def generate(model, tokenizer, prompt, max_new_tokens=64, skip_special_tokens=False):\n",
    "    tokenized_input = tokenizer(\n",
    "        prompt, add_special_tokens=False, return_tensors=\"pt\"\n",
    "    ).to(model.device)\n",
    "\n",
    "    model.eval()\n",
    "    gen_output = model.generate(**tokenized_input,\n",
    "                                eos_token_id=tokenizer.eos_token_id,\n",
    "                                max_new_tokens=max_new_tokens)\n",
    "    \n",
    "    output = tokenizer.batch_decode(gen_output, skip_special_tokens=skip_special_tokens)\n",
    "    return output[0]"
   ]
  },
  {
   "cell_type": "code",
   "execution_count": 30,
   "id": "0fc0b961",
   "metadata": {},
   "outputs": [
    {
     "name": "stdout",
     "output_type": "stream",
     "text": [
      "<|user|> The Force is strong in you!<|end|><|assistant|> Strong in you, the Force is! Yes, hrrrm.<|end|><|endoftext|>\n"
     ]
    }
   ],
   "source": [
    "sentence = 'The Force is strong in you!'\n",
    "print(generate(model, tokenizer, gen_prompt(tokenizer, sentence)))"
   ]
  },
  {
   "cell_type": "code",
   "execution_count": 31,
   "id": "50fa0afd",
   "metadata": {},
   "outputs": [
    {
     "name": "stdout",
     "output_type": "stream",
     "text": [
      "<|user|> ArithmeticError is a built-in exception in Python.<|end|><|assistant|> A built-in exception in Python, ArithmeticError is.<|end|><|endoftext|>\n"
     ]
    }
   ],
   "source": [
    "sentence = 'ArithmeticError is a built-in exception in Python.'\n",
    "print(generate(model, tokenizer, gen_prompt(tokenizer, sentence)))"
   ]
  },
  {
   "cell_type": "code",
   "execution_count": 32,
   "id": "9dfa810d",
   "metadata": {},
   "outputs": [
    {
     "name": "stdout",
     "output_type": "stream",
     "text": [
      "<|user|> What a beautiful day.<|end|><|assistant|> A beautiful day, yes, hrrrm.<|end|><|endoftext|>\n"
     ]
    }
   ],
   "source": [
    "sentence = 'What a beautiful day.'\n",
    "print(generate(model, tokenizer, gen_prompt(tokenizer, sentence)))"
   ]
  }
 ],
 "metadata": {
  "kernelspec": {
   "display_name": "venv",
   "language": "python",
   "name": "python3"
  },
  "language_info": {
   "codemirror_mode": {
    "name": "ipython",
    "version": 3
   },
   "file_extension": ".py",
   "mimetype": "text/x-python",
   "name": "python",
   "nbconvert_exporter": "python",
   "pygments_lexer": "ipython3",
   "version": "3.12.3"
  }
 },
 "nbformat": 4,
 "nbformat_minor": 5
}
